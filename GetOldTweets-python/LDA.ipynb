{
 "cells": [
  {
   "cell_type": "code",
   "execution_count": 19,
   "metadata": {
    "collapsed": false
   },
   "outputs": [],
   "source": [
    "import got\n",
    "import numpy as np\n",
    "import pandas as pd\n",
    "import datetime\n",
    "from wordcloud import WordCloud\n",
    "import matplotlib.pyplot as plt\n",
    "import seaborn\n",
    "import re\n",
    "from nltk.tokenize import word_tokenize\n",
    "from nltk.tokenize import wordpunct_tokenize\n",
    "from nltk.stem.porter import PorterStemmer\n",
    "from nltk.stem import WordNetLemmatizer\n",
    "from nltk.tokenize import TweetTokenizer\n",
    "from nltk.corpus import stopwords\n",
    "import string\n",
    "import collections\n",
    "import urllib2\n",
    "from bs4 import BeautifulSoup\n",
    "from bs4 import NavigableString"
   ]
  },
  {
   "cell_type": "code",
   "execution_count": 15,
   "metadata": {
    "collapsed": false
   },
   "outputs": [],
   "source": [
    "df = pd.read_csv('output_got7.csv', delimiter='\\t', quotechar='\"')"
   ]
  },
  {
   "cell_type": "code",
   "execution_count": 3,
   "metadata": {
    "collapsed": false
   },
   "outputs": [],
   "source": [
    "text = df['text']\n",
    "text = text.str.decode('utf-8')"
   ]
  },
  {
   "cell_type": "code",
   "execution_count": 20,
   "metadata": {
    "collapsed": true
   },
   "outputs": [],
   "source": [
    "def buildSlangDictionary():\n",
    "    alpha = list(map(chr, range(ord('a'), ord('z')+1)))\n",
    "    url = 'http://www.noslang.com/dictionary/'\n",
    "    headers = {\n",
    "        'User-Agent': \"Mozilla/5.0 (Windows NT 6.1; Win64; x64)\",\n",
    "        'Accept': \"text/html,application/xhtml+xml,application/xml;q=0.9,*/*;q=0.8\",\n",
    "        'Accept-Language': \"de,en-US;q=0.7,en;q=0.3\",\n",
    "        'Accept-Charset': \"ISO-8859-1,utf-8;q=0.7,*;q=0.3\",\n",
    "        'Accept-Encoding': 'none',\n",
    "        'Connection': \"keep-alive\"\n",
    "    }\n",
    "    slang_dict = collections.defaultdict(str)\n",
    "    for letter in alpha:\n",
    "        url = url + letter + '/'\n",
    "        req = urllib2.Request(url, headers=headers)\n",
    "        response = urllib2.urlopen(req)\n",
    "        soup = BeautifulSoup(response)\n",
    "        abbr_list = []\n",
    "        for abbr in soup.findAll('abbr'):\n",
    "            abbr_list.append(abbr)\n",
    "        for x in abbr_list:\n",
    "            temp = x.contents[0].contents[0].contents\n",
    "            if isinstance(temp[0], NavigableString):\n",
    "                slang = ''.join(temp)\n",
    "                slang = slang.encode('ascii', 'ignore')\n",
    "                slang = slang.split(' :')[0]\n",
    "                meaning = x['title']\n",
    "                slang_dict[slang] = meaning\n",
    "        url = url[:-2]\n",
    "    return slang_dict"
   ]
  },
  {
   "cell_type": "code",
   "execution_count": 71,
   "metadata": {
    "collapsed": false
   },
   "outputs": [],
   "source": [
    "def clean_tweet(tweet, slang_dict):\n",
    "    #remove urls\n",
    "    tweet = re.sub(r'http\\S+', '', tweet)\n",
    "    tweet = re.sub(r'pic.twitter\\S+', '', tweet)\n",
    "    \n",
    "    #remove hashtags and mentions\n",
    "    tweet = re.sub(r'#\\S+', '', tweet)\n",
    "    tweet = re.sub(r'@\\S+', '', tweet)\n",
    "    \n",
    "    #Remove stop-words and punctuation\n",
    "    stopset = stopwords.words('english') + list(string.punctuation)\n",
    "        \n",
    "    tokeniser = TweetTokenizer()\n",
    "    tweet_tokens = tokeniser.tokenize(tweet.lower())\n",
    "    tokens = [i for i in tweet_tokens if i not in stopset and len(i) > 2]\n",
    "\n",
    "     \n",
    "    #Stemming\n",
    "    #porter_stemmer = PorterStemmer()\n",
    "    #tokens = [porter_stemmer.stem(token) for token in tokens]\n",
    "    \n",
    "    #Lemmanisation\n",
    "    wordnet_lemmatizer = WordNetLemmatizer()\n",
    "    tokens = [wordnet_lemmatizer.lemmatize(token) for token in tokens]\n",
    "    \n",
    "    #Slang lookup\n",
    "    tweet_tokens = []\n",
    "    \n",
    "    for i in range(len(tokens)):\n",
    "        if tokens[i] in slang_dict:\n",
    "            abbrev = slang_dict[tokens[i]].split()\n",
    "            abbrev = [j for j in abbrev if j not in stopset and len(j)>2]\n",
    "            tweet_tokens.append(abbrev)\n",
    "        else:\n",
    "            tweet_tokens.append(tokens[i])\n",
    "    del tokens\n",
    "            \n",
    "    return tweet_tokens\n",
    "\n",
    "    \n",
    "    "
   ]
  },
  {
   "cell_type": "code",
   "execution_count": 73,
   "metadata": {
    "collapsed": false
   },
   "outputs": [],
   "source": [
    "slang_dict = buildSlangDictionary()\n"
   ]
  },
  {
   "cell_type": "code",
   "execution_count": 74,
   "metadata": {
    "collapsed": true
   },
   "outputs": [],
   "source": [
    "\n",
    "text_clean = text.apply(clean_tweet,args=(slang_dict,))"
   ]
  },
  {
   "cell_type": "code",
   "execution_count": 31,
   "metadata": {
    "collapsed": false
   },
   "outputs": [],
   "source": [
    "#Remove non-english tweets\n",
    "\n",
    "#Remove tweets having less then 3 tokens\n",
    "indexes = []\n",
    "for i in range(len(text_clean)):\n",
    "    if len(text_clean[i]) < 3:\n",
    "        indexes.append(i)\n",
    "    else:\n",
    "        text_clean[i] = ' '.join(text_clean[i])\n",
    "        \n",
    "text_clean.drop(indexes, inplace=True)\n",
    "del indexes"
   ]
  },
  {
   "cell_type": "code",
   "execution_count": null,
   "metadata": {
    "collapsed": true
   },
   "outputs": [],
   "source": []
  },
  {
   "cell_type": "code",
   "execution_count": null,
   "metadata": {
    "collapsed": true
   },
   "outputs": [],
   "source": []
  },
  {
   "cell_type": "code",
   "execution_count": 62,
   "metadata": {
    "collapsed": false
   },
   "outputs": [
    {
     "name": "stdout",
     "output_type": "stream",
     "text": [
      "0        ‡§ö‡§ø‡§™ ‡§®‡§π‡•Ä‡§Ç ‡§´‡§ø‡§∞ ‡§ï‡•à‡§∏‡•á ...\n",
      "1        ‡§ö‡§ø‡§™ ‡§®‡§π‡•Ä‡§Ç ‡§´‡§ø‡§∞ ‡§ï‡•à‡§∏‡•á ...\n",
      "2        #DeMonetisation and it's effect on Karnataka. ...\n",
      "3        One Month In, What's The Impact Of India's #De...\n",
      "4        One good thing from #demonetization: We know t...\n",
      "5        Delhi CM #ArvindKejriwal‚Äã criticise govt's #...\n",
      "6        #Demonetization. SHORT TERM PAIN LONG TERM GAI...\n",
      "7        @kapsology @ArvindKejriwal pehle isko spelling...\n",
      "8        Ye to hona he tha,Amit Shah loses temper at BJ...\n",
      "9        PM's Silence speaks louder than his Rhetoric. ...\n",
      "10       ‡§Æ‡•ã‡§¶‡•Ä ‡§ú‡•Ä ‡§¨‡§∏ ‡§Ö‡§¨ ‡§¨‡•à‡§ï‡§´...\n",
      "11       ‡Æ™‡ØÅ‡Æ§‡Æø‡ÆØ ‡Æ∞‡ØÇ.500 ‡Æ®‡Øã‡Æü‡Øç‡Æü‡ØÅ‡...\n",
      "12       ‡§Æ‡•ã‡§¶‡•Ä ‡§ú‡•Ä ‡§¨‡§∏ ‡§Ö‡§¨ ‡§¨‡•à‡§ï‡§´...\n",
      "13       Where is he gonna put all the Hookahs? #Hookah...\n",
      "14       The latest The Honest Frank Daily! http://pape...\n",
      "15       #Demonetisation #SC #Bjp ‡Æí‡Æ∞‡ØÅ ‡Æö‡Æø‡Æ≤‡Æ...\n",
      "16       .@timesofindia Can Nation know from #SC that H...\n",
      "17       You got to admire Raghuram Rajan; the integrit...\n",
      "18       All political careers end in failure, its said...\n",
      "19       #WorldwideOilfieldMachine #WOM $1.5M USD #Blac...\n",
      "20       @vjsbatra How. Theres little evidence that he ...\n",
      "21       #Demonetisation | RBI imposes measures to keep...\n",
      "22       .@WorldBank #DEMONetisation #MadeInIndia https...\n",
      "23       A new low in democracy. RBI Governor heckled b...\n",
      "24       @TelanganaCMO @KTRTRS @TelanganaPCC @trsharish...\n",
      "25       Where we are headed ... #demonetisation #curre...\n",
      "26       I-T department nets Rs 2,900 Cr in 586 searche...\n",
      "27       @ArvindKejriwal person not able2write correct ...\n",
      "28       .@WorldBank #DEMONetisation #MadeInIndia https...\n",
      "29       .@livemint Many are giving sermons after #Demo...\n",
      "                               ...                        \n",
      "68007    ‡§ó‡•ç‡§∞‡§æ‡§Æ‡•Ä‡§£ ‡§ï‡•ç‡§∑‡•á‡§§‡•ç‡§∞‡•ã...\n",
      "68008    @dpradhanbjp Coin a slogan for #DeMonetisation...\n",
      "68009    2000 ‡§π‡§ú‡§æ‡§∞‡§æ‡§Ç‡§™‡§∞‡•ç‡§Ø‡§Ç‡§§ ‡§ï‡...\n",
      "68010    Petrol/diesel cheaper for those who pay by dig...\n",
      "68011    ‡§Ü‡§ñ‡§ø‡§ï‡§æ‡§∞ ‡§¶‡•Ä‡§¶‡•Ä ‡§®‡•á ‡§≠‡•Ä ...\n",
      "68012    2 POS machines will be provided to villages wi...\n",
      "68013    The beauty of #Demonetization is every evening...\n",
      "68014    Indianewsup: Inkhabar: #Breaking: arunjaitley-...\n",
      "68015    Indianewsup: Inkhabar: #Breaking: arunjaitley-...\n",
      "68016    Indianewsup: Inkhabar: ‡§ú‡•á‡§ü‡§≤‡•Ä ‡§®‡•á ...\n",
      "68017    Indianewsup: Inkhabar: #Breaking: arunjaitley-...\n",
      "68018    @ichiragpaswan Coin a slogan for #DeMonetisati...\n",
      "68019    Railways to provide a discount of 5% for digit...\n",
      "68020    RT _YogendraYadav:RT thewire_in: Renowned econ...\n",
      "68021    ‡¥®‡µã‡¥ü‡µç‡¥ü‡µç ‡¥®‡¥ø‡¥∞‡µã‡¥ß‡¥®‡¥Ç ‡¥°‡¥...\n",
      "68022    Great move from cash economy towards digital e...\n",
      "68023    How much does @FinMinIndia know about cybersec...\n",
      "68024    Positive effects of #demonetisation .. #JanDha...\n",
      "68025    Chennai tax raid 70cr. in new notes And we are...\n",
      "68026    ‡§ü‡•ã‡§≤ ‡§™‡•ç‡§≤‡§æ‡§ú‡§æ ‡§™‡§∞ ‡§à ‡§™‡•á...\n",
      "68027    These concessions should have been given way b...\n",
      "68028    SALE! SALE! SALE! ‡§Æ‡•ã‡§¶‡•Ä ‡§∏‡§∞‡§ï‡§æ‡§∞...\n",
      "68029    @INCIndia lOl @OfficeOfRG is a foolish decisio...\n",
      "68030    @quizderek What a loser that...that was agains...\n",
      "68031    @prettypadmaja Coin a slogan for #DeMonetisati...\n",
      "68032    Positive effects of #demonetisation .. Develop...\n",
      "68033    Hell lot of discounts on digital payments. Gov...\n",
      "68034    4.3 cr farmers to get rupay cards #DeMonetisation\n",
      "68035    Positive effects of #demonetisation .. #Terror...\n",
      "68036    @abpnewstv #Rs500andRs1000 last few days left ...\n",
      "Name: text, dtype: object\n"
     ]
    }
   ],
   "source": [
    "print text"
   ]
  },
  {
   "cell_type": "code",
   "execution_count": 60,
   "metadata": {
    "collapsed": false
   },
   "outputs": [
    {
     "data": {
      "text/plain": [
       "1000"
      ]
     },
     "execution_count": 60,
     "metadata": {},
     "output_type": "execute_result"
    }
   ],
   "source": [
    "sample = text_clean.sample(1000)\n",
    "len(sample)"
   ]
  },
  {
   "cell_type": "code",
   "execution_count": 33,
   "metadata": {
    "collapsed": false
   },
   "outputs": [
    {
     "name": "stderr",
     "output_type": "stream",
     "text": [
      "/usr/local/lib/python2.7/dist-packages/nltk/twitter/__init__.py:20: UserWarning: The twython library has not been installed. Some functionality from the twitter package will not be available.\n",
      "  warnings.warn(\"The twython library has not been installed. \"\n"
     ]
    }
   ],
   "source": [
    "from nltk.sentiment.vader import SentimentIntensityAnalyzer\n",
    "from nltk.sentiment.util import *"
   ]
  },
  {
   "cell_type": "code",
   "execution_count": 54,
   "metadata": {
    "collapsed": false
   },
   "outputs": [],
   "source": [
    "sid = SentimentIntensityAnalyzer()\n",
    "tweets = pd.DataFrame(sample, columns=['text'], dtype=str)\n",
    "tweets['sentiment_compound_polarity']=tweets.text.apply(lambda x:sid.polarity_scores(x)['compound'])\n",
    "tweets['sentiment_neutral']=tweets.text.apply(lambda x:sid.polarity_scores(x)['neu'])\n",
    "tweets['sentiment_negative']=tweets.text.apply(lambda x:sid.polarity_scores(x)['neg'])\n",
    "tweets['sentiment_pos']=tweets.text.apply(lambda x:sid.polarity_scores(x)['pos'])\n",
    "tweets['sentiment_type']=''\n",
    "tweets.loc[tweets.sentiment_compound_polarity>0,'sentiment_type']='POSITIVE'\n",
    "tweets.loc[tweets.sentiment_compound_polarity==0,'sentiment_type']='NEUTRAL'\n",
    "tweets.loc[tweets.sentiment_compound_polarity<0,'sentiment_type']='NEGATIVE'"
   ]
  },
  {
   "cell_type": "code",
   "execution_count": 55,
   "metadata": {
    "collapsed": false
   },
   "outputs": [
    {
     "data": {
      "image/png": "[encoded data removed]",
      "text/plain": [
       "<matplotlib.figure.Figure at 0x7ff069077510>"
      ]
     },
     "metadata": {},
     "output_type": "display_data"
    }
   ],
   "source": [
    "import matplotlib.pyplot as plt\n",
    "tweets.sentiment_type.value_counts().plot(kind='bar',title=\"sentiment analysis\")\n",
    "plt.show()"
   ]
  },
  {
   "cell_type": "markdown",
   "metadata": {
    "collapsed": false
   },
   "source": [
    "## Topic Modeling"
   ]
  },
  {
   "cell_type": "code",
   "execution_count": 56,
   "metadata": {
    "collapsed": true
   },
   "outputs": [],
   "source": [
    "import gensim\n",
    "from gensim import corpora"
   ]
  },
  {
   "cell_type": "code",
   "execution_count": 66,
   "metadata": {
    "collapsed": false
   },
   "outputs": [
    {
     "name": "stdout",
     "output_type": "stream",
     "text": [
      "67304    [ u ' j a i t l e y ' ,   u ' w a n t ' ,   u ...\n",
      "54203    [ u ' t w e e t e d ' ,   u ' d a y ' ,   u ' ...\n",
      "34009    [ u ' l o o k ' ,   u ' l i k e ' ,   u \" o n ...\n",
      "64592    [ u ' a p p r e c i a t e d ' ,   u ' o b v i ...\n",
      "23870    [ u ' k u c h ' ,   u ' m e e t h a ' ,   u ' ...\n",
      "60858    [ u ' j o k e ' ,   u ' m o d i ' ,   u ' n e ...\n",
      "9285     [ u ' o p p o s i t i o n ' ,   u ' p a r t y ...\n",
      "60285    [ u ' e q u e l ' ,   u ' m a k e ' ,   u ' m ...\n",
      "55822    [ u ' o n e ' ,   u ' o n e ' ,   u ' c o r r ...\n",
      "32746    [ u ' c o u n t r y ' ,   u ' c a s h l e s s ...\n",
      "30514    [ u ' i n c i n d i a ' ,   u ' t e r m ' ,   ...\n",
      "33295    [ u ' m a j o r ' ,   u ' w i t h d r a w a l ...\n",
      "56068    [ u ' a s s a s s i n a t i o n ' ,   u ' m e ...\n",
      "60005    [ u ' k y o ' ,   u ' s u s u ' ,   u ' g y i ...\n",
      "64258    [ u ' b i g g e s t ' ,   u ' a c h i e v e m ...\n",
      "27912    [ u ' s a y ' ,   u ' l o o k ' ,   u \" w h o ...\n",
      "62739    [ u ' l e a d e r ' ,   u ' g o v e r n m e n ...\n",
      "59092    [ u ' c u r r e n c y ' ,   u ' e q u i v a l ...\n",
      "60276    [ u ' b a n k ' ,   u ' i n s t e a d ' ,   u ...\n",
      "46943    [ u ' d e n a ' ,   u ' b a n k ' ,   u ' u n ...\n",
      "62442    [ u ' c a s h ' ,   u ' w o u l d ' ,   u ' n ...\n",
      "5335     [ u ' o b v i o u s ' ,   [ ] ,   u ' c o r r ...\n",
      "42380    [ u ' s a d ' ,   u ' . . . ' ,   u ' s a d ' ...\n",
      "45103    [ u ' m o d i ' ,   u ' r e a l l y ' ,   u ' ...\n",
      "58849    [ u ' e a r t h q u a k e n ' ,   u ' a l r e ...\n",
      "51437    [ u ' a d d ' ,   u ' c o n t e x t ' ,   u ' ...\n",
      "27123    [ u ' b l a c k ' ,   u ' m o n e y ' ,   u ' ...\n",
      "63217    [ u ' i m p a c t e d ' ,   u ' r u r a l ' , ...\n",
      "27811    [ u ' w a r ' ,   u ' p o o r ' ,   u ' p a p ...\n",
      "33315    [ u ' g o a l ' ,   u ' p o s t ' ,   u ' s h ...\n",
      "                               ...                        \n",
      "11351    [ u ' t r u s t ' ,   u ' m e d i u m ' ,   u ...\n",
      "40450    [ u ' e x a c t l y ' ,   u ' s y s t e m ' , ...\n",
      "16060    [ u ' d i s t r i c t ' ,   u ' c o o p e r a ...\n",
      "8365     [ u ' p o s t ' ,   u ' c r o r e ' ,   u ' c ...\n",
      "52775    [ u ' a c c e p t e d ' ,   u ' p l e a ' ,   ...\n",
      "33243    [ u ' c a n a d a ' ,   u ' a u s t r a l i a ...\n",
      "21380    [ u ' g e t t i n g ' ,   u ' c o n f u s e d ...\n",
      "59002    [ u \" i s n ' t \" ,   u ' s y m p t o m a t i ...\n",
      "46534    [ u ' p e o p l e ' ,   u ' g e t t i n g ' , ...\n",
      "2869     [ u ' l i f e ' ,   u ' i n s u r e r ' ,   u ...\n",
      "63131    [ u ' o n e ' ,   u ' m o n t h ' ,   u ' h u ...\n",
      "10230    [ u ' o n e ' ,   u ' t o p ' ,   u ' e c o n ...\n",
      "12723    [ u ' v i l l a i n ' ,   u ' g e t ' ,   u ' ...\n",
      "9135     [ u ' d a y ' ,   u ' g o v t ' ,   u ' a c c ...\n",
      "67695    [ u ' p o l i t i c a l l y ' ,   u ' e t h i ...\n",
      "43819    [ u ' a a p ' ,   u ' u p s e t ' ,   u ' f a ...\n",
      "56936    [ u ' r e b o o t ' ,   u ' a n n o u n c e d ...\n",
      "18113    [ u ' b o t c h e d ' ,   u ' w a r ' ,   u ' ...\n",
      "65445    [ u ' c a s h l e s s ' ,   u ' s a i d ' ,   ...\n",
      "61708    [ u ' i n f l o w ' ,   u ' a c c o u n t ' , ...\n",
      "66712    [ u ' m e t ' ,   u ' m a r k e t ' ,   u ' i ...\n",
      "66687    [ u ' h e a r d ' ,   u ' e n d ' ,   u ' c o ...\n",
      "5348     [ u ' n r i s ' ,   u ' e x c h a n g e ' ,   ...\n",
      "27414    [ u ' s u r e l y ' ,   u ' o r d e r e d ' , ...\n",
      "45310    [ u ' m e t r o ' ,   u ' l o g ' ,   u ' b a ...\n",
      "24643    [ [ ' p i s s i n g ' ] ,   u ' i n d i a ' , ...\n",
      "56723    [ u ' m e e t ' ,   u ' s p e a k e r ' ,   u ...\n",
      "59183    [ u ' l a t e s t ' ,   u ' r a j i v ' ,   u ...\n",
      "21932    [ u ' i n c l u d e s ' ,   u ' s p e c i a l ...\n",
      "15850    [ u ' 3 1 s t ' ,   u ' d e c ' ,   u ' 2 0 1 ...\n",
      "Name: text, dtype: object\n"
     ]
    },
    {
     "ename": "TypeError",
     "evalue": "doc2bow expects an array of unicode tokens on input, not a single string",
     "output_type": "error",
     "traceback": [
      "\u001b[0;31m---------------------------------------------------------------------------\u001b[0m",
      "\u001b[0;31mTypeError\u001b[0m                                 Traceback (most recent call last)",
      "\u001b[0;32m<ipython-input-66-7f53d74e78e0>\u001b[0m in \u001b[0;36m<module>\u001b[0;34m()\u001b[0m\n\u001b[1;32m      1\u001b[0m \u001b[0mx\u001b[0m \u001b[0;34m=\u001b[0m \u001b[0mtweets\u001b[0m\u001b[0;34m[\u001b[0m\u001b[0;34m'text'\u001b[0m\u001b[0;34m]\u001b[0m\u001b[0;34m.\u001b[0m\u001b[0mstr\u001b[0m\u001b[0;34m.\u001b[0m\u001b[0mjoin\u001b[0m\u001b[0;34m(\u001b[0m\u001b[0;34m' '\u001b[0m\u001b[0;34m)\u001b[0m\u001b[0;34m\u001b[0m\u001b[0m\n\u001b[1;32m      2\u001b[0m \u001b[0;32mprint\u001b[0m \u001b[0mx\u001b[0m\u001b[0;34m\u001b[0m\u001b[0m\n\u001b[0;32m----> 3\u001b[0;31m \u001b[0mdictionary\u001b[0m \u001b[0;34m=\u001b[0m \u001b[0mcorpora\u001b[0m\u001b[0;34m.\u001b[0m\u001b[0mDictionary\u001b[0m\u001b[0;34m(\u001b[0m\u001b[0mx\u001b[0m\u001b[0;34m)\u001b[0m\u001b[0;34m\u001b[0m\u001b[0m\n\u001b[0m\u001b[1;32m      4\u001b[0m \u001b[0mdoc_term_matrix\u001b[0m \u001b[0;34m=\u001b[0m \u001b[0;34m[\u001b[0m\u001b[0mdictionary\u001b[0m\u001b[0;34m.\u001b[0m\u001b[0mdoc2bow\u001b[0m\u001b[0;34m(\u001b[0m\u001b[0mdoc\u001b[0m\u001b[0;34m)\u001b[0m \u001b[0;32mfor\u001b[0m \u001b[0mdoc\u001b[0m \u001b[0;32min\u001b[0m \u001b[0mx\u001b[0m\u001b[0;34m]\u001b[0m\u001b[0;34m\u001b[0m\u001b[0m\n",
      "\u001b[0;32m/usr/local/lib/python2.7/dist-packages/gensim/corpora/dictionary.pyc\u001b[0m in \u001b[0;36m__init__\u001b[0;34m(self, documents, prune_at)\u001b[0m\n\u001b[1;32m     56\u001b[0m \u001b[0;34m\u001b[0m\u001b[0m\n\u001b[1;32m     57\u001b[0m         \u001b[0;32mif\u001b[0m \u001b[0mdocuments\u001b[0m \u001b[0;32mis\u001b[0m \u001b[0;32mnot\u001b[0m \u001b[0mNone\u001b[0m\u001b[0;34m:\u001b[0m\u001b[0;34m\u001b[0m\u001b[0m\n\u001b[0;32m---> 58\u001b[0;31m             \u001b[0mself\u001b[0m\u001b[0;34m.\u001b[0m\u001b[0madd_documents\u001b[0m\u001b[0;34m(\u001b[0m\u001b[0mdocuments\u001b[0m\u001b[0;34m,\u001b[0m \u001b[0mprune_at\u001b[0m\u001b[0;34m=\u001b[0m\u001b[0mprune_at\u001b[0m\u001b[0;34m)\u001b[0m\u001b[0;34m\u001b[0m\u001b[0m\n\u001b[0m\u001b[1;32m     59\u001b[0m \u001b[0;34m\u001b[0m\u001b[0m\n\u001b[1;32m     60\u001b[0m     \u001b[0;32mdef\u001b[0m \u001b[0m__getitem__\u001b[0m\u001b[0;34m(\u001b[0m\u001b[0mself\u001b[0m\u001b[0;34m,\u001b[0m \u001b[0mtokenid\u001b[0m\u001b[0;34m)\u001b[0m\u001b[0;34m:\u001b[0m\u001b[0;34m\u001b[0m\u001b[0m\n",
      "\u001b[0;32m/usr/local/lib/python2.7/dist-packages/gensim/corpora/dictionary.pyc\u001b[0m in \u001b[0;36madd_documents\u001b[0;34m(self, documents, prune_at)\u001b[0m\n\u001b[1;32m    117\u001b[0m \u001b[0;34m\u001b[0m\u001b[0m\n\u001b[1;32m    118\u001b[0m             \u001b[0;31m# update Dictionary with the document\u001b[0m\u001b[0;34m\u001b[0m\u001b[0;34m\u001b[0m\u001b[0m\n\u001b[0;32m--> 119\u001b[0;31m             \u001b[0mself\u001b[0m\u001b[0;34m.\u001b[0m\u001b[0mdoc2bow\u001b[0m\u001b[0;34m(\u001b[0m\u001b[0mdocument\u001b[0m\u001b[0;34m,\u001b[0m \u001b[0mallow_update\u001b[0m\u001b[0;34m=\u001b[0m\u001b[0mTrue\u001b[0m\u001b[0;34m)\u001b[0m  \u001b[0;31m# ignore the result, here we only care about updating token ids\u001b[0m\u001b[0;34m\u001b[0m\u001b[0m\n\u001b[0m\u001b[1;32m    120\u001b[0m \u001b[0;34m\u001b[0m\u001b[0m\n\u001b[1;32m    121\u001b[0m         logger.info(\n",
      "\u001b[0;32m/usr/local/lib/python2.7/dist-packages/gensim/corpora/dictionary.pyc\u001b[0m in \u001b[0;36mdoc2bow\u001b[0;34m(self, document, allow_update, return_missing)\u001b[0m\n\u001b[1;32m    139\u001b[0m         \"\"\"\n\u001b[1;32m    140\u001b[0m         \u001b[0;32mif\u001b[0m \u001b[0misinstance\u001b[0m\u001b[0;34m(\u001b[0m\u001b[0mdocument\u001b[0m\u001b[0;34m,\u001b[0m \u001b[0mstring_types\u001b[0m\u001b[0;34m)\u001b[0m\u001b[0;34m:\u001b[0m\u001b[0;34m\u001b[0m\u001b[0m\n\u001b[0;32m--> 141\u001b[0;31m             \u001b[0;32mraise\u001b[0m \u001b[0mTypeError\u001b[0m\u001b[0;34m(\u001b[0m\u001b[0;34m\"doc2bow expects an array of unicode tokens on input, not a single string\"\u001b[0m\u001b[0;34m)\u001b[0m\u001b[0;34m\u001b[0m\u001b[0m\n\u001b[0m\u001b[1;32m    142\u001b[0m \u001b[0;34m\u001b[0m\u001b[0m\n\u001b[1;32m    143\u001b[0m         \u001b[0;31m# Construct (word, frequency) mapping.\u001b[0m\u001b[0;34m\u001b[0m\u001b[0;34m\u001b[0m\u001b[0m\n",
      "\u001b[0;31mTypeError\u001b[0m: doc2bow expects an array of unicode tokens on input, not a single string"
     ]
    }
   ],
   "source": [
    "x = tweets['text']\n",
    "print x\n",
    "dictionary = corpora.Dictionary(x)\n",
    "doc_term_matrix = [dictionary.doc2bow(doc) for doc in x]"
   ]
  },
  {
   "cell_type": "code",
   "execution_count": 10,
   "metadata": {
    "collapsed": false
   },
   "outputs": [],
   "source": [
    "Lda = gensim.models.ldamodel.LdaModel\n",
    "ldamodel = Lda(doc_term_matrix, num_topics=5, id2word = dictionary, passes=50)"
   ]
  },
  {
   "cell_type": "code",
   "execution_count": null,
   "metadata": {
    "collapsed": true
   },
   "outputs": [],
   "source": []
  },
  {
   "cell_type": "code",
   "execution_count": 17,
   "metadata": {
    "collapsed": false
   },
   "outputs": [
    {
     "data": {
      "text/plain": [
       "False"
      ]
     },
     "execution_count": 17,
     "metadata": {},
     "output_type": "execute_result"
    }
   ],
   "source": [
    "ldamodel.per_word_topics"
   ]
  },
  {
   "cell_type": "code",
   "execution_count": null,
   "metadata": {
    "collapsed": true
   },
   "outputs": [],
   "source": []
  },
  {
   "cell_type": "code",
   "execution_count": null,
   "metadata": {
    "collapsed": true
   },
   "outputs": [],
   "source": []
  }
 ],
 "metadata": {
  "kernelspec": {
   "display_name": "Python 2",
   "language": "python",
   "name": "python2"
  },
  "language_info": {
   "codemirror_mode": {
    "name": "ipython",
    "version": 2
   },
   "file_extension": ".py",
   "mimetype": "text/x-python",
   "name": "python",
   "nbconvert_exporter": "python",
   "pygments_lexer": "ipython2",
   "version": "2.7.12"
  }
 },
 "nbformat": 4,
 "nbformat_minor": 1
}
